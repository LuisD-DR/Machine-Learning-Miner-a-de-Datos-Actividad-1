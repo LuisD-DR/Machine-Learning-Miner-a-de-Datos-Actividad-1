{
  "nbformat": 4,
  "nbformat_minor": 0,
  "metadata": {
    "colab": {
      "provenance": []
    },
    "kernelspec": {
      "name": "python3",
      "display_name": "Python 3"
    },
    "language_info": {
      "name": "python"
    }
  },
  "cells": [
    {
      "cell_type": "code",
      "execution_count": null,
      "metadata": {
        "id": "XS_wb61wm-Qe"
      },
      "outputs": [],
      "source": [
        "import numpy as np\n",
        "import pandas as pd\n",
        "\n",
        "\n",
        "# Variables demográficas\n",
        "np.random.seed(42)  #Para tener los mismos datos cada que se ejecuta\n",
        "\n",
        "#Edad (16-30) con outliers\n",
        "ages = np.random.randint(16, 30, size=500)\n",
        "outlier_indices = np.random.choice(500, size=10, replace=False)\n",
        "ages[outlier_indices] = np.random.choice([10, 45, 60], size=10)\n",
        "\n",
        "#Género\n",
        "genders = np.random.choice(['Masculino', 'Femenino'], size=500)\n",
        "\n",
        "#Origen\n",
        "origins = np.random.choice(['Urbano', 'Rural', 'Extranjero'], size=500, p=[0.6, 0.3, 0.1])\n",
        "\n",
        "#Variables académicas\n",
        "#Promedio secundaria (0–5)\n",
        "hs_avg = np.round(np.random.normal(3.5, 0.7, size=500), 2)\n",
        "hs_avg = np.clip(hs_avg, 0, 5)\n",
        "\n",
        "#Puntaje admisión (0–100)\n",
        "admission = np.round(np.random.normal(70, 15, size=500), 1)\n",
        "admission = np.clip(admission, 0, 100)\n",
        "\n",
        "#Nota primer semestre (0–5)\n",
        "first_sem = np.round(np.random.normal(3.0, 0.8, size=500), 2)\n",
        "first_sem = np.clip(first_sem, 0, 5)\n",
        "\n",
        "# Variables financieras\n",
        "ses = np.random.choice(['Bajo', 'Medio', 'Alto'], size=500, p=[0.4, 0.4, 0.2])\n",
        "scholarship = np.random.choice([0, 1], size=500, p=[0.7, 0.3])\n",
        "credit = np.random.choice([0, 1], size=500, p=[0.6, 0.4])\n",
        "aid = np.random.choice([0, 1], size=500, p=[0.6, 0.4])\n",
        "\n",
        "#Variable de salida: Deserción\n",
        "logit = (\n",
        "    -1.0 * hs_avg +\n",
        "    -1.5 * first_sem +\n",
        "    np.where(ses == 'Bajo', 1, np.where(ses == 'Medio', 0.3, -0.5)) +\n",
        "    np.where(scholarship == 0, 0.5, -0.3) +\n",
        "    np.random.normal(0, 0.5, size=500)\n",
        ")\n",
        "prob_dropout = 1 / (1 + np.exp(-logit))\n",
        "dropout = (prob_dropout > 0.5).astype(int)\n",
        "\n",
        "#Crear Dataset\n",
        "df = pd.DataFrame({\n",
        "    'Edad': ages,\n",
        "    'Genero': genders,\n",
        "    'Origen': origins,\n",
        "    'Promedio_Secundaria': hs_avg,\n",
        "    'Puntaje_Admision': admission,\n",
        "    'Nota_Primer_Semestre': first_sem,\n",
        "    'Nivel_Socioeconomico': ses,\n",
        "    'Beca': scholarship,\n",
        "    'Credito': credit,\n",
        "    'Ayuda_Financiera': aid,\n",
        "    'Deserta': dropout\n",
        "})\n",
        "\n",
        "#Introducir valores nulos (5%)\n",
        "for col in ['Promedio_Secundaria', 'Puntaje_Admision', 'Nota_Primer_Semestre', 'Beca']:\n",
        "    mask = np.random.rand(500) < 0.05\n",
        "\n",
        "print(df.head)"
      ]
    }
  ]
}